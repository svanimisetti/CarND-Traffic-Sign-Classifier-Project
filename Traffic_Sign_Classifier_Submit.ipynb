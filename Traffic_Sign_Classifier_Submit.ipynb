{
 "cells": [
  {
   "cell_type": "markdown",
   "metadata": {},
   "source": [
    "# Self-Driving Car Engineer Nanodegree\n",
    "\n",
    "## Deep Learning\n",
    "\n",
    "## Project: Build a Traffic Sign Recognition Classifier\n",
    "\n",
    "In this notebook, a template is provided for you to implement your functionality in stages, which is required to successfully complete this project. If additional code is required that cannot be included in the notebook, be sure that the Python code is successfully imported and included in your submission if necessary. \n",
    "\n",
    "> **Note**: Once you have completed all of the code implementations, you need to finalize your work by exporting the iPython Notebook as an HTML document. Before exporting the notebook to html, all of the code cells need to have been run so that reviewers can see the final implementation and output. You can then export the notebook by using the menu above and navigating to  \\n\",\n",
    "    \"**File -> Download as -> HTML (.html)**. Include the finished document along with this notebook as your submission. \n",
    "\n",
    "In addition to implementing code, there is a writeup to complete. The writeup should be completed in a separate file, which can be either a markdown file or a pdf document. There is a [write up template](https://github.com/udacity/CarND-Traffic-Sign-Classifier-Project/blob/master/writeup_template.md) that can be used to guide the writing process. Completing the code template and writeup template will cover all of the [rubric points](https://review.udacity.com/#!/rubrics/481/view) for this project.\n",
    "\n",
    "The [rubric](https://review.udacity.com/#!/rubrics/481/view) contains \"Stand Out Suggestions\" for enhancing the project beyond the minimum requirements. The stand out suggestions are optional. If you decide to pursue the \"stand out suggestions\", you can include the code in this Ipython notebook and also discuss the results in the writeup file.\n",
    "\n",
    "\n",
    ">**Note:** Code and Markdown cells can be executed using the **Shift + Enter** keyboard shortcut. In addition, Markdown cells can be edited by typically double-clicking the cell to enter edit mode."
   ]
  },
  {
   "cell_type": "markdown",
   "metadata": {},
   "source": [
    "---\n",
    "## Step 0: Load The Data"
   ]
  },
  {
   "cell_type": "code",
   "execution_count": 6,
   "metadata": {
    "collapsed": false
   },
   "outputs": [],
   "source": [
    "# Load pickled data\n",
    "import pickle\n",
    "import csv\n",
    "\n",
    "# TODO: Fill this in based on where you saved the training and testing data\n",
    "\n",
<<<<<<< HEAD
    "training_file = 'train.p'\n",
    "validation_file='valid.p'\n",
    "testing_file =  'test.p'\n",
    "csv_file = 'signnames.csv'\n",
=======
    "training_file = ?\n",
    "validation_file=?\n",
    "testing_file = ?\n",
>>>>>>> 050f1edb2c92bce66256aed2075da13923778b9f
    "\n",
    "with open(training_file, mode='rb') as f:\n",
    "    train = pickle.load(f)\n",
    "with open(validation_file, mode='rb') as f:\n",
    "    valid = pickle.load(f)\n",
    "with open(testing_file, mode='rb') as f:\n",
    "    test = pickle.load(f)\n",
    "with open(csv_file, mode='r') as f:\n",
    "    signs = list(csv.reader(f))\n",
    "    signs = signs[1:] # skip header\n",
    "    \n",
    "X_train, y_train = train['features'], train['labels']\n",
    "X_valid, y_valid = valid['features'], valid['labels']\n",
    "X_test, y_test = test['features'], test['labels']"
   ]
  },
  {
   "cell_type": "markdown",
   "metadata": {},
   "source": [
    "---\n",
    "\n",
    "## Step 1: Dataset Summary & Exploration\n",
    "\n",
    "The pickled data is a dictionary with 4 key/value pairs:\n",
    "\n",
    "- `'features'` is a 4D array containing raw pixel data of the traffic sign images, (num examples, width, height, channels).\n",
    "- `'labels'` is a 1D array containing the label/class id of the traffic sign. The file `signnames.csv` contains id -> name mappings for each id.\n",
    "- `'sizes'` is a list containing tuples, (width, height) representing the original width and height the image.\n",
    "- `'coords'` is a list containing tuples, (x1, y1, x2, y2) representing coordinates of a bounding box around the sign in the image. **THESE COORDINATES ASSUME THE ORIGINAL IMAGE. THE PICKLED DATA CONTAINS RESIZED VERSIONS (32 by 32) OF THESE IMAGES**\n",
    "\n",
    "Complete the basic data summary below. Use python, numpy and/or pandas methods to calculate the data summary rather than hard coding the results. For example, the [pandas shape method](http://pandas.pydata.org/pandas-docs/stable/generated/pandas.DataFrame.shape.html) might be useful for calculating some of the summary results. "
   ]
  },
  {
   "cell_type": "markdown",
   "metadata": {},
   "source": [
    "### Provide a Basic Summary of the Data Set Using Python, Numpy and/or Pandas"
   ]
  },
  {
   "cell_type": "code",
   "execution_count": 7,
   "metadata": {
    "collapsed": false
   },
<<<<<<< HEAD
   "outputs": [
    {
     "name": "stdout",
     "output_type": "stream",
     "text": [
      "Number of training examples = 34799\n",
      "Number of testing examples = 12630\n",
      "Image data shape = (32, 32, 3)\n",
      "Number of classes = 43\n"
     ]
    }
   ],
=======
   "outputs": [],
>>>>>>> 050f1edb2c92bce66256aed2075da13923778b9f
   "source": [
    "### Replace each question mark with the appropriate value. \n",
    "### Use python, pandas or numpy methods rather than hard coding the results\n",
    "\n",
    "# TODO: Number of training examples\n",
    "n_train = y_train.shape[0]\n",
    "\n",
    "# TODO: Number of testing examples.\n",
    "n_test = y_test.shape[0]\n",
    "\n",
    "# TODO: What's the shape of an traffic sign image?\n",
    "image_shape = X_train[0].shape\n",
    "\n",
    "# TODO: How many unique classes/labels there are in the dataset.\n",
    "n_classes = len(signs)\n",
    "\n",
    "print(\"Number of training examples =\", n_train)\n",
    "print(\"Number of testing examples =\", n_test)\n",
    "print(\"Image data shape =\", image_shape)\n",
    "print(\"Number of classes =\", n_classes)"
   ]
  },
  {
   "cell_type": "markdown",
   "metadata": {},
   "source": [
    "### Include an exploratory visualization of the dataset"
   ]
  },
  {
   "cell_type": "markdown",
   "metadata": {},
   "source": [
    "Visualize the German Traffic Signs Dataset using the pickled file(s). This is open ended, suggestions include: plotting traffic sign images, plotting the count of each sign, etc.\n",
    "\n",
    "The [Matplotlib](http://matplotlib.org/) [examples](http://matplotlib.org/examples/index.html) and [gallery](http://matplotlib.org/gallery.html) pages are a great resource for doing visualizations in Python.\n",
    "\n",
    "**NOTE:** It's recommended you start with something simple first. If you wish to do more, come back to it after you've completed the rest of the sections."
   ]
  },
  {
   "cell_type": "code",
<<<<<<< HEAD
   "execution_count": 8,
=======
   "execution_count": 16,
>>>>>>> 050f1edb2c92bce66256aed2075da13923778b9f
   "metadata": {
    "collapsed": false
   },
<<<<<<< HEAD
   "outputs": [
    {
     "name": "stdout",
     "output_type": "stream",
     "text": [
      "Sign description: 'No passing'\n"
     ]
    },
    {
     "data": {
      "image/png": "iVBORw0KGgoAAAANSUhEUgAAAH4AAAB6CAYAAAB5sueeAAAABHNCSVQICAgIfAhkiAAAAAlwSFlz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\nN8A/oHQD/ANKN8A/oPT/APwugbst9cQCAAAAAElFTkSuQmCC\n",
      "text/plain": [
       "<matplotlib.figure.Figure at 0x7fca7c1a34e0>"
      ]
     },
     "metadata": {},
     "output_type": "display_data"
    }
   ],
=======
   "outputs": [],
>>>>>>> 050f1edb2c92bce66256aed2075da13923778b9f
   "source": [
    "### Data exploration visualization code goes here.\n",
    "### Feel free to use as many code cells as needed.\n",
    "import random\n",
    "import numpy as np\n",
    "import matplotlib.pyplot as plt\n",
    "# Visualizations will be shown in the notebook.\n",
    "%matplotlib inline\n",
    "\n",
    "index = random.randint(0, len(X_train))\n",
    "image = X_train[index].squeeze()\n",
    "\n",
    "plt.figure(figsize=(1,1))\n",
    "plt.imshow(image)\n",
    "print(\"Sign description: '{}'\".format(signs[y_train[index]][1]))"
   ]
  },
  {
   "cell_type": "markdown",
   "metadata": {},
   "source": [
    "----\n",
    "\n",
    "## Step 2: Design and Test a Model Architecture\n",
    "\n",
    "Design and implement a deep learning model that learns to recognize traffic signs. Train and test your model on the [German Traffic Sign Dataset](http://benchmark.ini.rub.de/?section=gtsrb&subsection=dataset).\n",
    "\n",
    "The LeNet-5 implementation shown in the [classroom](https://classroom.udacity.com/nanodegrees/nd013/parts/fbf77062-5703-404e-b60c-95b78b2f3f9e/modules/6df7ae49-c61c-4bb2-a23e-6527e69209ec/lessons/601ae704-1035-4287-8b11-e2c2716217ad/concepts/d4aca031-508f-4e0b-b493-e7b706120f81) at the end of the CNN lesson is a solid starting point. You'll have to change the number of classes and possibly the preprocessing, but aside from that it's plug and play! \n",
    "\n",
    "With the LeNet-5 solution from the lecture, you should expect a validation set accuracy of about 0.89. To meet specifications, the validation set accuracy will need to be at least 0.93. It is possible to get an even higher accuracy, but 0.93 is the minimum for a successful project submission. \n",
    "\n",
    "There are various aspects to consider when thinking about this problem:\n",
    "\n",
    "- Neural network architecture (is the network over or underfitting?)\n",
    "- Play around preprocessing techniques (normalization, rgb to grayscale, etc)\n",
    "- Number of examples per label (some have more than others).\n",
    "- Generate fake data.\n",
    "\n",
    "Here is an example of a [published baseline model on this problem](http://yann.lecun.com/exdb/publis/pdf/sermanet-ijcnn-11.pdf). It's not required to be familiar with the approach used in the paper but, it's good practice to try to read papers like these."
   ]
  },
  {
   "cell_type": "markdown",
   "metadata": {},
   "source": [
    "### Pre-process the Data Set (normalization, grayscale, etc.)"
<<<<<<< HEAD
   ]
  },
  {
   "cell_type": "markdown",
   "metadata": {},
   "source": [
    "Use the code cell (or multiple code cells, if necessary) to implement the first step of your project."
   ]
  },
  {
   "cell_type": "code",
   "execution_count": 9,
   "metadata": {
    "collapsed": true
   },
   "outputs": [],
   "source": [
    "### Preprocess the data here. Preprocessing steps could include normalization, converting to grayscale, etc.\n",
    "### Feel free to use as many code cells as needed."
   ]
  },
  {
   "cell_type": "markdown",
   "metadata": {},
   "source": [
    "#### Shuffle Data\n",
    "\n",
    "Training data is shuffled before use."
   ]
  },
  {
   "cell_type": "code",
   "execution_count": 10,
   "metadata": {
    "collapsed": true
   },
   "outputs": [],
   "source": [
    "from sklearn.utils import shuffle\n",
    "\n",
    "X_train, y_train = shuffle(X_train, y_train)"
=======
>>>>>>> 050f1edb2c92bce66256aed2075da13923778b9f
   ]
  },
  {
   "cell_type": "markdown",
   "metadata": {},
   "source": [
<<<<<<< HEAD
    "#### Tensorflow Setup\n",
    "\n",
    "Placeholder to define EPOCH and BATCH_SIZE values"
=======
    "Use the code cell (or multiple code cells, if necessary) to implement the first step of your project."
>>>>>>> 050f1edb2c92bce66256aed2075da13923778b9f
   ]
  },
  {
   "cell_type": "code",
<<<<<<< HEAD
   "execution_count": 23,
   "metadata": {
    "collapsed": false
   },
   "outputs": [],
   "source": [
    "import tensorflow as tf\n",
    "\n",
    "EPOCHS = 20\n",
    "BATCH_SIZE = 192"
   ]
  },
  {
   "cell_type": "markdown",
   "metadata": {},
   "source": [
    "### Model Architecture"
   ]
  },
  {
   "cell_type": "code",
   "execution_count": 24,
=======
   "execution_count": 4,
>>>>>>> 050f1edb2c92bce66256aed2075da13923778b9f
   "metadata": {
    "collapsed": true
   },
   "outputs": [],
   "source": [
<<<<<<< HEAD
    "### Define your architecture here.\n",
=======
    "### Preprocess the data here. Preprocessing steps could include normalization, converting to grayscale, etc.\n",
>>>>>>> 050f1edb2c92bce66256aed2075da13923778b9f
    "### Feel free to use as many code cells as needed."
   ]
  },
  {
   "cell_type": "markdown",
   "metadata": {},
   "source": [
<<<<<<< HEAD
    "#### Implementation of the LeNet-5 Architecture\n",
    "Implementation is based on the LeNet Lab code based on [LeNet-5](http://yann.lecun.com/exdb/lenet/) neural network architecture.\n",
    "\n",
    "##### Input\n",
    "Since the traffic signs are color data, the LeNet architecture image input dimension are changed to 32x32x3.\n",
    "\n",
    "##### Architecture\n",
    "**Layer 1: Convolutional.** The output shape should be 28x28x6.\n",
    "\n",
    "**Activation.** Your choice of activation function.\n",
    "\n",
    "**Pooling.** The output shape should be 14x14x6.\n",
    "\n",
    "**Layer 2: Convolutional.** The output shape should be 10x10x16.\n",
    "\n",
    "**Activation.** Your choice of activation function.\n",
    "\n",
    "**Pooling.** The output shape should be 5x5x16.\n",
    "\n",
    "**Flatten.** Flatten the output shape of the final pooling layer such that it's 1D instead of 3D. The easiest way to do is by using `tf.contrib.layers.flatten`, which is already imported for you.\n",
    "\n",
    "**Layer 3: Fully Connected.** This should have 120 outputs.\n",
    "\n",
    "**Activation.** Your choice of activation function.\n",
    "\n",
    "**Layer 4: Fully Connected.** This should have 84 outputs.\n",
    "\n",
    "**Activation.** Your choice of activation function.\n",
    "\n",
    "**Layer 5: Fully Connected (Logits).** This should have 10 outputs.\n",
    "\n",
    "##### Output\n",
    "Return the result of the 2nd fully connected layer."
   ]
  },
  {
   "cell_type": "code",
   "execution_count": 25,
   "metadata": {
    "collapsed": true
   },
   "outputs": [],
   "source": [
    "from tensorflow.contrib.layers import flatten\n",
    "\n",
    "def LeNet(x):    \n",
    "    # Arguments used for tf.truncated_normal, randomly defines variables for the weights and biases for each layer\n",
    "    mu = 0\n",
    "    sigma = 0.1\n",
    "    \n",
    "    weights = {\n",
    "    'wc1': tf.Variable(tf.truncated_normal([5, 5, 3, 6], mean=mu, stddev=sigma, dtype=tf.float32)),\n",
    "    'wc2': tf.Variable(tf.truncated_normal([5, 5, 6, 16], mean=mu, stddev=sigma, dtype=tf.float32)),\n",
    "    'wd1': tf.Variable(tf.truncated_normal([400, 120], mean=mu, stddev=sigma, dtype=tf.float32)),\n",
    "    'wd2': tf.Variable(tf.truncated_normal([120, 84], mean=mu, stddev=sigma, dtype=tf.float32)),\n",
    "    'out': tf.Variable(tf.truncated_normal([84, 43]))}\n",
    "\n",
    "    biases = {\n",
    "    'bc1': tf.Variable(tf.zeros([6])),\n",
    "    'bc2': tf.Variable(tf.zeros([16])),\n",
    "    'bd1': tf.Variable(tf.zeros([120])),\n",
    "    'bd2': tf.Variable(tf.zeros([84])),\n",
    "    'out': tf.Variable(tf.zeros([43]))}\n",
    "    \n",
    "    # TODO: Layer 1: Convolutional. Input = 32x32x1. Output = 28x28x6.\n",
    "    xc1 = tf.nn.bias_add(tf.nn.conv2d(x, weights['wc1'], strides=[1, 1, 1, 1], padding='VALID'), biases['bc1'])\n",
    "    # TODO: Activation.\n",
    "    xc1 = tf.nn.relu(xc1)\n",
    "    # TODO: Pooling. Input = 28x28x6. Output = 14x14x6.\n",
    "    yc1 = tf.nn.max_pool(xc1, ksize=[1, 2, 2, 1], strides=[1, 2, 2, 1], padding='VALID')\n",
    "    #print(yc1.get_shape())\n",
    "\n",
    "    # TODO: Layer 2: Convolutional. Output = 10x10x16.\n",
    "    xc2 = tf.nn.bias_add(tf.nn.conv2d(yc1, weights['wc2'], strides=[1, 1, 1, 1], padding='VALID'), biases['bc2'])\n",
    "    # TODO: Activation.\n",
    "    xc2 = tf.nn.relu(xc2)\n",
    "    # TODO: Pooling. Input = 10x10x16. Output = 5x5x16.\n",
    "    yc2 = tf.nn.max_pool(xc2, ksize=[1, 2, 2, 1], strides=[1, 2, 2, 1], padding='VALID')\n",
    "    #print(yc2.get_shape())\n",
    "\n",
    "    # TODO: Flatten. Input = 5x5x16. Output = 400.\n",
    "    flt = flatten(yc2)\n",
    "    \n",
    "    # TODO: Layer 3: Fully Connected. Input = 400. Output = 120.\n",
    "    fc1 = tf.add(tf.matmul(flt, weights['wd1']), biases['bd1'])\n",
    "    # TODO: Activation.\n",
    "    fc1 = tf.nn.relu(fc1)\n",
    "    #fc1 = tf.nn.dropout(fc1, dropout)\n",
    "    \n",
    "    # TODO: Layer 4: Fully Connected. Input = 120. Output = 84.\n",
    "    fc2 = tf.add(tf.matmul(fc1, weights['wd2']), biases['bd2'])\n",
    "    # TODO: Activation.\n",
    "    fc2 = tf.nn.relu(fc2)\n",
    "    #fc1 = tf.nn.dropout(fc1, dropout)\n",
    "    \n",
    "    # TODO: Layer 5: Fully Connected. Input = 84. Output = 10.\n",
    "    logits = tf.add(tf.matmul(fc2, weights['out']), biases['out'])\n",
    "    \n",
    "    return logits"
   ]
  },
  {
   "cell_type": "markdown",
   "metadata": {},
   "source": [
    "#### Features and Labels\n",
    "\n",
    "x -> input images & y -> output labels"
=======
    "### Model Architecture"
>>>>>>> 050f1edb2c92bce66256aed2075da13923778b9f
   ]
  },
  {
   "cell_type": "code",
   "execution_count": 26,
   "metadata": {
    "collapsed": false
   },
   "outputs": [],
   "source": [
    "x = tf.placeholder(tf.float32, (None, 32, 32, 3))\n",
    "y = tf.placeholder(tf.int32, (None))\n",
    "one_hot_y = tf.one_hot(y, 43)"
   ]
  },
  {
   "cell_type": "markdown",
   "metadata": {},
   "source": [
<<<<<<< HEAD
    "#### Training Pipeline"
   ]
  },
  {
   "cell_type": "code",
   "execution_count": 28,
   "metadata": {
    "collapsed": false
   },
   "outputs": [],
   "source": [
    "rate = 0.002\n",
    "\n",
    "logits = LeNet(x)\n",
    "cross_entropy = tf.nn.softmax_cross_entropy_with_logits(logits=logits, labels=one_hot_y)\n",
    "loss_operation = tf.reduce_mean(cross_entropy)\n",
    "optimizer = tf.train.AdamOptimizer(learning_rate = rate)\n",
    "training_operation = optimizer.minimize(loss_operation)"
=======
    "### Train, Validate and Test the Model"
>>>>>>> 050f1edb2c92bce66256aed2075da13923778b9f
   ]
  },
  {
   "cell_type": "markdown",
   "metadata": {},
   "source": [
<<<<<<< HEAD
    "#### Model Evaluation (Loss and Accuracy)"
=======
    "A validation set can be used to assess how well the model is performing. A low accuracy on the training and validation\n",
    "sets imply underfitting. A high accuracy on the training set but low accuracy on the validation set implies overfitting."
>>>>>>> 050f1edb2c92bce66256aed2075da13923778b9f
   ]
  },
  {
   "cell_type": "code",
<<<<<<< HEAD
   "execution_count": 29,
=======
   "execution_count": 1,
>>>>>>> 050f1edb2c92bce66256aed2075da13923778b9f
   "metadata": {
    "collapsed": true
   },
   "outputs": [],
   "source": [
<<<<<<< HEAD
    "correct_prediction = tf.equal(tf.argmax(logits, 1), tf.argmax(one_hot_y, 1))\n",
    "accuracy_operation = tf.reduce_mean(tf.cast(correct_prediction, tf.float32))\n",
    "saver = tf.train.Saver()\n",
    "\n",
    "def evaluate(X_data, y_data):\n",
    "    num_examples = len(X_data)\n",
    "    total_accuracy = 0\n",
    "    sess = tf.get_default_session()\n",
    "    for offset in range(0, num_examples, BATCH_SIZE):\n",
    "        batch_x, batch_y = X_data[offset:offset+BATCH_SIZE], y_data[offset:offset+BATCH_SIZE]\n",
    "        accuracy = sess.run(accuracy_operation, feed_dict={x: batch_x, y: batch_y})\n",
    "        total_accuracy += (accuracy * len(batch_x))\n",
    "    return total_accuracy / num_examples"
=======
    "### Train your model here.\n",
    "### Calculate and report the accuracy on the training and validation set.\n",
    "### Once a final model architecture is selected, \n",
    "### the accuracy on the test set should be calculated and reported as well.\n",
    "### Feel free to use as many code cells as needed."
>>>>>>> 050f1edb2c92bce66256aed2075da13923778b9f
   ]
  },
  {
   "cell_type": "markdown",
   "metadata": {},
   "source": [
<<<<<<< HEAD
    "### Train, Validate and Test the Model"
   ]
  },
  {
   "cell_type": "markdown",
   "metadata": {},
   "source": [
    "A validation set can be used to assess how well the model is performing. A low accuracy on the training and validation\n",
    "sets imply underfitting. A high accuracy on the training set but low accuracy on the validation set implies overfitting."
   ]
  },
  {
   "cell_type": "code",
   "execution_count": 30,
   "metadata": {
    "collapsed": true
   },
   "outputs": [],
   "source": [
    "### Train your model here.\n",
    "### Calculate and report the accuracy on the training and validation set.\n",
    "### Once a final model architecture is selected, \n",
    "### the accuracy on the test set should be calculated and reported as well.\n",
    "### Feel free to use as many code cells as needed."
   ]
  },
  {
   "cell_type": "markdown",
   "metadata": {},
   "source": [
    "#### Train the Model\n",
    "\n",
    "Run training data through pipeline after shuffling at each epoch.\n",
    "\n",
    "Measure the loss and accuracy of the validation set and save model."
   ]
  },
  {
   "cell_type": "code",
   "execution_count": 31,
   "metadata": {
    "collapsed": false
   },
   "outputs": [
    {
     "name": "stdout",
     "output_type": "stream",
     "text": [
      "Training...\n",
      "\n",
      "EPOCH 1 ...\n",
      "Validation Accuracy = 0.056\n",
      "\n",
      "EPOCH 2 ...\n",
      "Validation Accuracy = 0.064\n",
      "\n",
      "EPOCH 3 ...\n",
      "Validation Accuracy = 0.110\n",
      "\n",
      "EPOCH 4 ...\n",
      "Validation Accuracy = 0.385\n",
      "\n",
      "EPOCH 5 ...\n",
      "Validation Accuracy = 0.521\n",
      "\n",
      "EPOCH 6 ...\n",
      "Validation Accuracy = 0.633\n",
      "\n",
      "EPOCH 7 ...\n",
      "Validation Accuracy = 0.710\n",
      "\n",
      "EPOCH 8 ...\n",
      "Validation Accuracy = 0.744\n",
      "\n",
      "EPOCH 9 ...\n",
      "Validation Accuracy = 0.772\n",
      "\n",
      "EPOCH 10 ...\n",
      "Validation Accuracy = 0.766\n",
      "\n",
      "EPOCH 11 ...\n",
      "Validation Accuracy = 0.768\n",
      "\n",
      "EPOCH 12 ...\n",
      "Validation Accuracy = 0.793\n",
      "\n",
      "EPOCH 13 ...\n",
      "Validation Accuracy = 0.798\n",
      "\n",
      "EPOCH 14 ...\n",
      "Validation Accuracy = 0.804\n",
      "\n",
      "EPOCH 15 ...\n",
      "Validation Accuracy = 0.798\n",
      "\n",
      "EPOCH 16 ...\n",
      "Validation Accuracy = 0.829\n",
      "\n",
      "EPOCH 17 ...\n",
      "Validation Accuracy = 0.820\n",
      "\n",
      "EPOCH 18 ...\n",
      "Validation Accuracy = 0.821\n",
      "\n",
      "EPOCH 19 ...\n",
      "Validation Accuracy = 0.816\n",
      "\n",
      "EPOCH 20 ...\n",
      "Validation Accuracy = 0.823\n",
      "\n",
      "Model saved\n"
     ]
    }
   ],
   "source": [
    "with tf.Session() as sess:\n",
    "    sess.run(tf.global_variables_initializer())\n",
    "    num_examples = len(X_train)\n",
    "    \n",
    "    print(\"Training...\")\n",
    "    print()\n",
    "    for i in range(EPOCHS):\n",
    "        X_train, y_train = shuffle(X_train, y_train)\n",
    "        for offset in range(0, num_examples, BATCH_SIZE):\n",
    "            end = offset + BATCH_SIZE\n",
    "            batch_x, batch_y = X_train[offset:end], y_train[offset:end]\n",
    "            sess.run(training_operation, feed_dict={x: batch_x, y: batch_y})\n",
    "            \n",
    "        validation_accuracy = evaluate(X_valid, y_valid)\n",
    "        print(\"EPOCH {} ...\".format(i+1))\n",
    "        print(\"Validation Accuracy = {:.3f}\".format(validation_accuracy))\n",
    "        print()\n",
    "        \n",
    "    saver.save(sess, './lenet')\n",
    "    print(\"Model saved\")"
   ]
  },
  {
   "cell_type": "markdown",
   "metadata": {},
   "source": [
=======
>>>>>>> 050f1edb2c92bce66256aed2075da13923778b9f
    "---\n",
    "\n",
    "## Step 3: Test a Model on New Images\n",
    "\n",
    "To give yourself more insight into how your model is working, download at least five pictures of German traffic signs from the web and use your model to predict the traffic sign type.\n",
    "\n",
    "You may find `signnames.csv` useful as it contains mappings from the class id (integer) to the actual sign name."
   ]
  },
  {
   "cell_type": "markdown",
   "metadata": {},
   "source": [
    "### Load and Output the Images"
   ]
  },
  {
   "cell_type": "code",
   "execution_count": null,
   "metadata": {
    "collapsed": true
   },
   "outputs": [],
   "source": [
    "### Load the images and plot them here.\n",
    "### Feel free to use as many code cells as needed."
   ]
  },
  {
   "cell_type": "markdown",
   "metadata": {},
   "source": [
    "### Predict the Sign Type for Each Image"
   ]
  },
  {
   "cell_type": "code",
   "execution_count": 3,
   "metadata": {
    "collapsed": true
   },
   "outputs": [],
   "source": [
    "### Run the predictions here and use the model to output the prediction for each image.\n",
    "### Make sure to pre-process the images with the same pre-processing pipeline used earlier.\n",
    "### Feel free to use as many code cells as needed."
   ]
  },
  {
   "cell_type": "markdown",
   "metadata": {},
   "source": [
    "### Analyze Performance"
   ]
  },
  {
   "cell_type": "code",
   "execution_count": 4,
   "metadata": {
    "collapsed": true
   },
   "outputs": [],
   "source": [
    "### Calculate the accuracy for these 5 new images. \n",
    "### For example, if the model predicted 1 out of 5 signs correctly, it's 20% accurate on these new images."
   ]
  },
  {
   "cell_type": "markdown",
   "metadata": {},
   "source": [
    "### Output Top 5 Softmax Probabilities For Each Image Found on the Web"
   ]
  },
  {
   "cell_type": "markdown",
   "metadata": {},
   "source": [
    "For each of the new images, print out the model's softmax probabilities to show the **certainty** of the model's predictions (limit the output to the top 5 probabilities for each image). [`tf.nn.top_k`](https://www.tensorflow.org/versions/r0.12/api_docs/python/nn.html#top_k) could prove helpful here. \n",
    "\n",
    "The example below demonstrates how tf.nn.top_k can be used to find the top k predictions for each image.\n",
    "\n",
    "`tf.nn.top_k` will return the values and indices (class ids) of the top k predictions. So if k=3, for each sign, it'll return the 3 largest probabilities (out of a possible 43) and the correspoding class ids.\n",
    "\n",
    "Take this numpy array as an example. The values in the array represent predictions. The array contains softmax probabilities for five candidate images with six possible classes. `tk.nn.top_k` is used to choose the three classes with the highest probability:\n",
    "\n",
    "```\n",
    "# (5, 6) array\n",
    "a = np.array([[ 0.24879643,  0.07032244,  0.12641572,  0.34763842,  0.07893497,\n",
    "         0.12789202],\n",
    "       [ 0.28086119,  0.27569815,  0.08594638,  0.0178669 ,  0.18063401,\n",
    "         0.15899337],\n",
    "       [ 0.26076848,  0.23664738,  0.08020603,  0.07001922,  0.1134371 ,\n",
    "         0.23892179],\n",
    "       [ 0.11943333,  0.29198961,  0.02605103,  0.26234032,  0.1351348 ,\n",
    "         0.16505091],\n",
    "       [ 0.09561176,  0.34396535,  0.0643941 ,  0.16240774,  0.24206137,\n",
    "         0.09155967]])\n",
    "```\n",
    "\n",
    "Running it through `sess.run(tf.nn.top_k(tf.constant(a), k=3))` produces:\n",
    "\n",
    "```\n",
    "TopKV2(values=array([[ 0.34763842,  0.24879643,  0.12789202],\n",
    "       [ 0.28086119,  0.27569815,  0.18063401],\n",
    "       [ 0.26076848,  0.23892179,  0.23664738],\n",
    "       [ 0.29198961,  0.26234032,  0.16505091],\n",
    "       [ 0.34396535,  0.24206137,  0.16240774]]), indices=array([[3, 0, 5],\n",
    "       [0, 1, 4],\n",
    "       [0, 5, 1],\n",
    "       [1, 3, 5],\n",
    "       [1, 4, 3]], dtype=int32))\n",
    "```\n",
    "\n",
    "Looking just at the first row we get `[ 0.34763842,  0.24879643,  0.12789202]`, you can confirm these are the 3 largest probabilities in `a`. You'll also notice `[3, 0, 5]` are the corresponding indices."
   ]
  },
  {
   "cell_type": "code",
<<<<<<< HEAD
   "execution_count": null,
=======
   "execution_count": 6,
>>>>>>> 050f1edb2c92bce66256aed2075da13923778b9f
   "metadata": {
    "collapsed": true
   },
   "outputs": [],
   "source": [
    "### Print out the top five softmax probabilities for the predictions on the German traffic sign images found on the web. \n",
    "### Feel free to use as many code cells as needed."
   ]
  },
  {
   "cell_type": "markdown",
   "metadata": {},
   "source": [
    "---\n",
    "\n",
    "## Step 4: Visualize the Neural Network's State with Test Images\n",
    "\n",
    " This Section is not required to complete but acts as an additional excersise for understaning the output of a neural network's weights. While neural networks can be a great learning device they are often referred to as a black box. We can understand what the weights of a neural network look like better by plotting their feature maps. After successfully training your neural network you can see what it's feature maps look like by plotting the output of the network's weight layers in response to a test stimuli image. From these plotted feature maps, it's possible to see what characteristics of an image the network finds interesting. For a sign, maybe the inner network feature maps react with high activation to the sign's boundary outline or to the contrast in the sign's painted symbol.\n",
    "\n",
    " Provided for you below is the function code that allows you to get the visualization output of any tensorflow weight layer you want. The inputs to the function should be a stimuli image, one used during training or a new one you provided, and then the tensorflow variable name that represents the layer's state during the training process, for instance if you wanted to see what the [LeNet lab's](https://classroom.udacity.com/nanodegrees/nd013/parts/fbf77062-5703-404e-b60c-95b78b2f3f9e/modules/6df7ae49-c61c-4bb2-a23e-6527e69209ec/lessons/601ae704-1035-4287-8b11-e2c2716217ad/concepts/d4aca031-508f-4e0b-b493-e7b706120f81) feature maps looked like for it's second convolutional layer you could enter conv2 as the tf_activation variable.\n",
    "\n",
    "For an example of what feature map outputs look like, check out NVIDIA's results in their paper [End-to-End Deep Learning for Self-Driving Cars](https://devblogs.nvidia.com/parallelforall/deep-learning-self-driving-cars/) in the section Visualization of internal CNN State. NVIDIA was able to show that their network's inner weights had high activations to road boundary lines by comparing feature maps from an image with a clear path to one without. Try experimenting with a similar test to show that your trained network's weights are looking for interesting features, whether it's looking at differences in feature maps from images with or without a sign, or even what feature maps look like in a trained network vs a completely untrained one on the same sign image.\n",
    "\n",
    "<figure>\n",
    " <img src=\"visualize_cnn.png\" width=\"380\" alt=\"Combined Image\" />\n",
    " <figcaption>\n",
    " <p></p> \n",
    " <p style=\"text-align: center;\"> Your output should look something like this (above)</p> \n",
    " </figcaption>\n",
    "</figure>\n",
    " <p></p> \n"
   ]
  },
  {
   "cell_type": "code",
   "execution_count": null,
   "metadata": {
    "collapsed": true
   },
   "outputs": [],
   "source": [
    "### Visualize your network's feature maps here.\n",
    "### Feel free to use as many code cells as needed.\n",
    "\n",
    "# image_input: the test image being fed into the network to produce the feature maps\n",
    "# tf_activation: should be a tf variable name used during your training procedure that represents the calculated state of a specific weight layer\n",
    "# activation_min/max: can be used to view the activation contrast in more detail, by default matplot sets min and max to the actual min and max values of the output\n",
    "# plt_num: used to plot out multiple different weight feature map sets on the same block, just extend the plt number for each new feature map entry\n",
    "\n",
    "def outputFeatureMap(image_input, tf_activation, activation_min=-1, activation_max=-1 ,plt_num=1):\n",
    "    # Here make sure to preprocess your image_input in a way your network expects\n",
    "    # with size, normalization, ect if needed\n",
    "    # image_input =\n",
    "    # Note: x should be the same name as your network's tensorflow data placeholder variable\n",
    "    # If you get an error tf_activation is not defined it maybe having trouble accessing the variable from inside a function\n",
    "    activation = tf_activation.eval(session=sess,feed_dict={x : image_input})\n",
    "    featuremaps = activation.shape[3]\n",
    "    plt.figure(plt_num, figsize=(15,15))\n",
    "    for featuremap in range(featuremaps):\n",
    "        plt.subplot(6,8, featuremap+1) # sets the number of feature maps to show on each row and column\n",
    "        plt.title('FeatureMap ' + str(featuremap)) # displays the feature map number\n",
    "        if activation_min != -1 & activation_max != -1:\n",
    "            plt.imshow(activation[0,:,:, featuremap], interpolation=\"nearest\", vmin =activation_min, vmax=activation_max, cmap=\"gray\")\n",
    "        elif activation_max != -1:\n",
    "            plt.imshow(activation[0,:,:, featuremap], interpolation=\"nearest\", vmax=activation_max, cmap=\"gray\")\n",
    "        elif activation_min !=-1:\n",
    "            plt.imshow(activation[0,:,:, featuremap], interpolation=\"nearest\", vmin=activation_min, cmap=\"gray\")\n",
    "        else:\n",
    "            plt.imshow(activation[0,:,:, featuremap], interpolation=\"nearest\", cmap=\"gray\")"
   ]
  },
  {
   "cell_type": "markdown",
   "metadata": {},
   "source": [
    "### Question 9\n",
    "\n",
    "Discuss how you used the visual output of your trained network's feature maps to show that it had learned to look for interesting characteristics in traffic sign images\n"
   ]
  },
  {
   "cell_type": "markdown",
   "metadata": {},
   "source": [
    "**Answer:**"
   ]
  },
  {
   "cell_type": "markdown",
   "metadata": {},
   "source": [
    "> **Note**: Once you have completed all of the code implementations and successfully answered each question above, you may finalize your work by exporting the iPython Notebook as an HTML document. You can do this by using the menu above and navigating to  \\n\",\n",
    "    \"**File -> Download as -> HTML (.html)**. Include the finished document along with this notebook as your submission."
   ]
  },
  {
   "cell_type": "markdown",
   "metadata": {},
   "source": [
    "### Project Writeup\n",
    "\n",
    "Once you have completed the code implementation, document your results in a project writeup using this [template](https://github.com/udacity/CarND-Traffic-Sign-Classifier-Project/blob/master/writeup_template.md) as a guide. The writeup can be in a markdown or pdf file. "
   ]
  }
 ],
 "metadata": {
  "anaconda-cloud": {},
  "kernelspec": {
   "display_name": "Python [default]",
   "language": "python",
   "name": "python3"
  },
  "language_info": {
   "codemirror_mode": {
    "name": "ipython",
    "version": 3
   },
   "file_extension": ".py",
   "mimetype": "text/x-python",
   "name": "python",
   "nbconvert_exporter": "python",
   "pygments_lexer": "ipython3",
   "version": "3.5.2"
  }
 },
 "nbformat": 4,
 "nbformat_minor": 1
}
